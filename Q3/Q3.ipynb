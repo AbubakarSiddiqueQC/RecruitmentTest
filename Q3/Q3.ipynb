{
  "cells": [
    {
      "cell_type": "code",
      "source": [
        "median = 0\n",
        "i = 0\n",
        "j = 0\n",
        "\n",
        "def maximum(a, b):\n",
        "  if a > b:\n",
        "    return a\n",
        "  else:\n",
        "    return b\n",
        "\n",
        "def minimum(a, b):\n",
        "  if a < b:\n",
        "    return a\n",
        "  else:\n",
        "    return b\n",
        "\n",
        "def findMedianSortedArrays(nums1, nums2) -> float:\n",
        "  len_num1 = len(nums1)\n",
        "  len_num2 = len(nums2)\n",
        "  if len_num1==0:\n",
        "    if len_num2%2==0:\n",
        "      return (nums2[len_num2/2]+nums2[(len_num2/2)+1])/2\n",
        "    else:\n",
        "      return nums2[int(len_num2/2)]\n",
        "  elif len_num2==0:\n",
        "    if len_num1%2==0:\n",
        "      return (nums1[len_num1/2]+nums1[(len_num1/2)+1])/2\n",
        "    else:\n",
        "      return nums1[int(len_num1/2)]\n",
        "  \n",
        "  global median, i, j\n",
        "  min_index = 0\n",
        "  max_index = len_num1\n",
        "  \n",
        "  while (min_index <= max_index):\n",
        "    i = int((min_index + max_index) / 2)\n",
        "    j = int(((len_num1 + len_num2 + 1) / 2) - i)\n",
        "    if (i < len_num1 and j > 0 and nums2[j - 1] > nums1[i]):\n",
        "      min_index = i + 1\n",
        "    elif (i > 0 and j < len_num2 and nums2[j] < nums1[i - 1]):\n",
        "      max_index = i - 1\n",
        "    else:\n",
        "      if (i == 0):\n",
        "        median = nums2[j - 1]\n",
        "      elif (j == 0):\n",
        "        median = nums1[i - 1]\n",
        "      else:\n",
        "        median = maximum(nums1[i - 1], nums2[j - 1])\n",
        "      break\n",
        "  \n",
        "  if ((len_num1 + len_num2) % 2 == 1):\n",
        "    return median\n",
        "  if (i == len_num1):\n",
        "    return ((median + nums2[j]) / 2.0)\n",
        "  if (j == len_num2):\n",
        "    return ((median + nums1[i]) / 2.0)\n",
        "  \n",
        "  return ((median + minimum(nums1[i], nums2[j])) / 2.0)\n"
      ],
      "metadata": {
        "id": "JHxcm-u3olYR"
      },
      "execution_count": 3,
      "outputs": []
    },
    {
      "cell_type": "code",
      "source": [
        "nums1 = [1,2]\n",
        "nums2 = [3]\n",
        "findMedianSortedArrays(nums1,nums2)"
      ],
      "metadata": {
        "colab": {
          "base_uri": "https://localhost:8080/"
        },
        "id": "p4IH50vuvcFH",
        "outputId": "49d2f161-fe43-4af1-843d-8662c6147287"
      },
      "execution_count": 4,
      "outputs": [
        {
          "output_type": "execute_result",
          "data": {
            "text/plain": [
              "2"
            ]
          },
          "metadata": {},
          "execution_count": 4
        }
      ]
    },
    {
      "cell_type": "code",
      "source": [],
      "metadata": {
        "id": "ptmXNDRg4lcr"
      },
      "execution_count": null,
      "outputs": []
    }
  ],
  "metadata": {
    "colab": {
      "collapsed_sections": [],
      "provenance": []
    },
    "kernelspec": {
      "display_name": "Python 3",
      "name": "python3"
    },
    "accelerator": "GPU"
  },
  "nbformat": 4,
  "nbformat_minor": 0
}