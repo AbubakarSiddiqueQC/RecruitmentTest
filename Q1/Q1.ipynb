{
  "cells": [
    {
      "cell_type": "code",
      "source": [
        "def sum_of_factorial_digit(n: int)->int:\n",
        "  \"\"\" This function will take an argument that is number it will find its factorial and treat that as string to find the sum of the digits in the factorial \"\"\"\n",
        "  fact = 1\n",
        "  sum = 0\n",
        "  for i in range(1,n+1):\n",
        "    fact = fact*i\n",
        "  for d in str(fact):\n",
        "    sum = sum + int(d)\n",
        "  return sum"
      ],
      "metadata": {
        "id": "jIa957cmksYE"
      },
      "execution_count": 3,
      "outputs": []
    },
    {
      "cell_type": "code",
      "source": [
        "sum_of_factorial_digit(100)"
      ],
      "metadata": {
        "colab": {
          "base_uri": "https://localhost:8080/"
        },
        "id": "5XuldUKOnzmr",
        "outputId": "37a68d7d-1ab4-4458-f90c-29bdd448f9bc"
      },
      "execution_count": 4,
      "outputs": [
        {
          "output_type": "execute_result",
          "data": {
            "text/plain": [
              "648"
            ]
          },
          "metadata": {},
          "execution_count": 4
        }
      ]
    },
    {
      "cell_type": "code",
      "source": [],
      "metadata": {
        "id": "ZeczZjHn-F-z"
      },
      "execution_count": null,
      "outputs": []
    }
  ],
  "metadata": {
    "colab": {
      "collapsed_sections": [],
      "provenance": []
    },
    "kernelspec": {
      "display_name": "Python 3",
      "name": "python3"
    },
    "accelerator": "GPU"
  },
  "nbformat": 4,
  "nbformat_minor": 0
}