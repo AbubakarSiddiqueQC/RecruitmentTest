{
  "cells": [
    {
      "cell_type": "code",
      "source": [
        "class ListNode:\n",
        "    def __init__(self, val=0, next=None):\n",
        "        self.val = val\n",
        "        self.next = next\n",
        " \n",
        " \n",
        "class Solution:\n",
        "    def __init__(self):\n",
        "        self.head = None\n",
        " \n",
        "    # CreateNode and make linked list\n",
        "    def push(self, val):\n",
        "        new_node = ListNode(val)\n",
        "        new_node.next = self.head\n",
        "        self.head = new_node\n",
        "   \n",
        "    def deleteNthFromLast(self, n):\n",
        "        first = self.head\n",
        "        second = self.head\n",
        "        for i in range(n):\n",
        "            if(second.next == None):\n",
        "                if(i == n - 1):\n",
        "                    self.head = self.head.next\n",
        "                return self.head\n",
        "            second = second.next\n",
        "         \n",
        "        while(second.next != None):\n",
        "            second = second.next\n",
        "            first = first.next\n",
        "        first.next = first.next.next\n",
        "    def printList(self):\n",
        "        tmp_head = self.head\n",
        "        while(tmp_head != None):\n",
        "            print(tmp_head.val, end = ' ')\n",
        "            tmp_head = tmp_head.next\n",
        "\n",
        " \n",
        "   "
      ],
      "metadata": {
        "id": "zhISt_Y21agk"
      },
      "execution_count": 28,
      "outputs": []
    },
    {
      "cell_type": "code",
      "source": [
        "llist = Solution()\n",
        "llist.push(20)\n",
        "llist.push(4)\n",
        "llist.push(15)\n",
        "llist.push(35)\n",
        "\n",
        "print(\"Created Linked list is:\")\n",
        "llist.printList()\n",
        "llist.deleteNthFromLast(1)\n",
        "print(\"\\nLinked List after Deletion is:\")\n",
        "llist.printList()"
      ],
      "metadata": {
        "colab": {
          "base_uri": "https://localhost:8080/"
        },
        "id": "RnNzSp8w4hoc",
        "outputId": "6cedfff4-3c55-468c-dcfc-7459c610e701"
      },
      "execution_count": 30,
      "outputs": [
        {
          "output_type": "stream",
          "name": "stdout",
          "text": [
            "Created Linked list is:\n",
            "35 15 4 20 \n",
            "Linked List after Deletion is:\n",
            "35 15 4 "
          ]
        }
      ]
    },
    {
      "cell_type": "code",
      "source": [],
      "metadata": {
        "id": "ptmXNDRg4lcr"
      },
      "execution_count": null,
      "outputs": []
    }
  ],
  "metadata": {
    "colab": {
      "collapsed_sections": [],
      "provenance": []
    },
    "kernelspec": {
      "display_name": "Python 3",
      "name": "python3"
    },
    "accelerator": "GPU"
  },
  "nbformat": 4,
  "nbformat_minor": 0
}